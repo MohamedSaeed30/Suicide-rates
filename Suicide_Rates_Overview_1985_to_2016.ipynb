{
  "cells": [
    {
      "cell_type": "markdown",
      "metadata": {
        "id": "MoLNr2OfqViT"
      },
      "source": [
        "# Data"
      ]
    },
    {
      "cell_type": "markdown",
      "metadata": {
        "id": "1i3hPK9yqViX"
      },
      "source": [
        "> https://www.kaggle.com/datasets/russellyates88/suicide-rates-overview-1985-to-2016\n"
      ]
    },
    {
      "cell_type": "markdown",
      "metadata": {
        "id": "oVO3ig93qViY"
      },
      "source": [
        "# Description"
      ]
    },
    {
      "cell_type": "markdown",
      "metadata": {
        "id": "h_RHc9CuqViZ"
      },
      "source": [
        "* This dataset was built to find signals correlated to increased suicide rates among different cohorts globally, across the socio-economic spectrum.\n",
        "* 27820 rows, 12 cols\n",
        "* Numerical & Categorical\n",
        "* No Missing Values \n",
        "* Outliers included\n",
        "* Can be used for EDA & Visualization "
      ]
    }
  ],
  "metadata": {
    "kernelspec": {
      "display_name": "Python 3 (ipykernel)",
      "language": "python",
      "name": "python3"
    },
    "language_info": {
      "codemirror_mode": {
        "name": "ipython",
        "version": 3
      },
      "file_extension": ".py",
      "mimetype": "text/x-python",
      "name": "python",
      "nbconvert_exporter": "python",
      "pygments_lexer": "ipython3",
      "version": "3.10.4"
    },
    "colab": {
      "name": "Suicide Rates Overview 1985 to 2016.ipynb",
      "provenance": [],
      "collapsed_sections": []
    }
  },
  "nbformat": 4,
  "nbformat_minor": 0
}